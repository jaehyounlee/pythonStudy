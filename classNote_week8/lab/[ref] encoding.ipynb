{
 "cells": [
  {
   "cell_type": "markdown",
   "metadata": {},
   "source": [
    "# 한국어 윈도우 + 한글 데이터 = ...............\n",
    "\n",
    "운영체제마다 기본 인코딩이 있다.\n",
    "\n",
    "- Windows KO: CP949\n",
    "- Linux, Mac: UTF-8\n",
    "\n",
    "The Truth: 인터넷 세계에서 utf-8이 표준처럼 사용된다.\n",
    "\n",
    "문제의 시발점: MS windows는 CP949다.\n",
    "\n",
    "영어 데이터에서는 별 문제가 없지만, 한글 데이터를 처리할 때 아래와 같은 에러가 발생하기 일쑤다.\n",
    "\n",
    "```\n",
    "UnicodeDecodeError: 'cp949' codec can't decode byte 0xed in position 0: illegal multibyte sequence\n",
    "```\n",
    "\n",
    "![](./img/giphy.gif)"
   ]
  },
  {
   "cell_type": "code",
   "execution_count": null,
   "metadata": {
    "collapsed": false
   },
   "outputs": [],
   "source": [
    "# this is unicode\n",
    "# it can be encoded to both utf 8 and cp949\n",
    "s = 'MS Windows + 한글 데이터 = 호옹이!!!!!!!' \n",
    "\n",
    "print('-'*50)\n",
    "print('original:', s)\n",
    "print('type:', type(s))\n",
    "print('')\n",
    "\n",
    "print('encoded to utf-8:')\n",
    "print(s.encode('utf-8'))\n",
    "print('')\n",
    "\n",
    "print('encoded to cp949:')\n",
    "print(s.encode('cp949'))\n",
    "print('-'*50)\n",
    "print('')\n",
    "print('')"
   ]
  },
  {
   "cell_type": "code",
   "execution_count": null,
   "metadata": {
    "collapsed": false
   },
   "outputs": [],
   "source": [
    "# this is utf-8\n",
    "# it can be decoded by utf-8 only\n",
    "u = s.encode('utf-8') \n",
    "\n",
    "print('-'*50)\n",
    "print('original:', u)\n",
    "print('type:', type(u))\n",
    "print('')\n",
    "print('decoded to utf-8:')\n",
    "print(u.decode('utf-8'))\n",
    "print('')\n",
    "print('decoded to cp949:')\n",
    "try:\n",
    "    print(u.decode('cp949'))\n",
    "except UnicodeDecodeError:\n",
    "    print('........UnicodeDecodeError')\n",
    "print('-'*50)\n",
    "print('')\n",
    "print('')\n",
    "\n",
    "# this is cp949\n",
    "# it can be decoded by cp949 only\n",
    "c = s.encode('cp949') \n",
    "\n",
    "print('-'*50)\n",
    "print('original:', c)\n",
    "print('type:', type(c))\n",
    "print('')\n",
    "print('decoded by utf-8:')\n",
    "try:\n",
    "    print(c.decode('utf-8'))\n",
    "except UnicodeDecodeError:\n",
    "    print('........UnicodeDecodeError')\n",
    "print('')\n",
    "print('decoded by cp949:')\n",
    "print(c.decode('cp949')) #error\n",
    "print('-'*50)"
   ]
  },
  {
   "cell_type": "markdown",
   "metadata": {},
   "source": [
    "## 윈도우 파이썬에서 한글 데이터를 다루고 싶다면 인코딩 문제는 피할 수 없는 숙명이니... 어떻게 대처해야할지 알아보자.\n",
    "\n",
    "### 1. `cp949`로 작업하기\n",
    "\n",
    "윈도우 사용자인 나는 괜찮지만, 맥, 리눅스를 쓰는 친구와 함께 프로젝트를 해야 한다면...? 크롤링을 하려는데 인터넷 표준은 utf-8이고... OMG\n",
    "\n",
    "### 2. `UTF-8`로 작업할 수 있는 환경을 만들기\n",
    "\n",
    "이게 장기적으로 좋은 선택이다."
   ]
  },
  {
   "cell_type": "markdown",
   "metadata": {},
   "source": [
    "---\n",
    "# 한국어 버전 윈도우에서  파이썬을 사용하는 사용자가 `utf-8`에 대처하는 방법"
   ]
  },
  {
   "cell_type": "markdown",
   "metadata": {},
   "source": [
    "### 0. 현재 사용하는 윈도우 운영체제의 인코딩을 확인해보자."
   ]
  },
  {
   "cell_type": "code",
   "execution_count": null,
   "metadata": {
    "collapsed": false
   },
   "outputs": [],
   "source": [
    "import locale\n",
    "import sys\n",
    "\n",
    "print(locale.getpreferredencoding())\n",
    "print(sys.stdout.encoding)          \n",
    "print(sys.getdefaultencoding())     "
   ]
  },
  {
   "cell_type": "markdown",
   "metadata": {},
   "source": [
    "아마 cp949, cp949, utf-8이 나올 것이다. 사용자 환경변수에 `PYTHONIOENCODING`을 추가하고, 그 값을 `utf-8`로 설정하자."
   ]
  },
  {
   "cell_type": "markdown",
   "metadata": {},
   "source": [
    "![](./img/pythonencoding.png)"
   ]
  },
  {
   "cell_type": "markdown",
   "metadata": {},
   "source": [
    "### 1. 스크립트 맨 위에 소스코드 인코딩을 명시하기 위해 아래와 같은 한 줄을 추가해주자. 일종의 컨벤션이다.  \n",
    "\n",
    "```\n",
    "# -*- coding: utf-8 -*-\n",
    "```\n",
    "\n",
    "### 2. cmd에서 한글이 깨진다면?\n",
    "\n",
    "cmd 명령줄에서 아래 코드를 실행하자.\n",
    "```\n",
    "chcp 65001\n",
    "```\n",
    "\n",
    "UTF-8 인코딩이 적용되어 깨지는 문제가 사라진다.\n",
    "\n",
    "다만, 매번 새 cmd창에서 실행해줘야 되는 단점이 있다....ㅠㅠ\n",
    "\n",
    "### 3. 파일에 데이터를 저장할 때 `utf-8`을 지정해주자. 파일을 불러올 때도 마찬가지다.\n",
    "\n",
    "```python\n",
    "with open(save_to, 'w', encoding='utf-8') as fout:\n",
    "    json.dump(news, fout, ensure_ascii=False)\n",
    "    \n",
    "with open(save_to, 'r', encoding='utf-8') as fin:\n",
    "    data = json.load(fin)\n",
    "```\n",
    "\n",
    "### 4. 소스코드 내에서는 유니코드 문자열을 사용하자. 외부에서 읽을 때 유니코드로 변환하고, 내부에서 밖으로 내보낼 때 인코딩하자.\n",
    "\n",
    "\n",
    "### 5. 인코딩 관련 오류가 발생하면 잘 읽어보자. 오류 메시지를 이해하면 어떻게 해결할 지 알 수 있다. 해결 방법을 모르면, 오류 메시지로 구글링을 해보면 된다."
   ]
  },
  {
   "cell_type": "markdown",
   "metadata": {
    "collapsed": true
   },
   "source": [
    "Ref: http://juehan.github.io/DiveIntoPython3_Korean_Translation/strings.html"
   ]
  }
 ],
 "metadata": {
  "kernelspec": {
   "display_name": "Python [conda root]",
   "language": "python",
   "name": "conda-root-py"
  },
  "language_info": {
   "codemirror_mode": {
    "name": "ipython",
    "version": 3
   },
   "file_extension": ".py",
   "mimetype": "text/x-python",
   "name": "python",
   "nbconvert_exporter": "python",
   "pygments_lexer": "ipython3",
   "version": "3.5.2"
  }
 },
 "nbformat": 4,
 "nbformat_minor": 2
}

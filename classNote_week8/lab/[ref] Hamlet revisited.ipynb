{
 "cells": [
  {
   "cell_type": "markdown",
   "metadata": {},
   "source": [
    "# 2. Hamlet"
   ]
  },
  {
   "cell_type": "markdown",
   "metadata": {},
   "source": [
    "1. 대사가 가장 많은 등장인물 top 3?\n",
    "2. 가장 많이 등장하는 단어 top 30?"
   ]
  },
  {
   "cell_type": "markdown",
   "metadata": {},
   "source": [
    "## 2-1. 웹에서 연극 햄릿 원문 데이터 가져와 저장하기"
   ]
  },
  {
   "cell_type": "markdown",
   "metadata": {},
   "source": [
    "Requests 패키지 불러오기"
   ]
  },
  {
   "cell_type": "code",
   "execution_count": null,
   "metadata": {
    "collapsed": false
   },
   "outputs": [],
   "source": [
    "import requests\n",
    "help(requests)"
   ]
  },
  {
   "cell_type": "markdown",
   "metadata": {},
   "source": [
    "웹사이트에서 데이터 가져오기, 결과 살펴보기"
   ]
  },
  {
   "cell_type": "code",
   "execution_count": null,
   "metadata": {
    "collapsed": false,
    "scrolled": true
   },
   "outputs": [],
   "source": [
    "url = 'http://shakespeare.mit.edu/hamlet/full.html'\n",
    "r = requests.get(url)\n",
    "print(r)\n",
    "print(type(r))\n",
    "print(r.headers)\n",
    "print(r.encoding)\n",
    "print('---')\n",
    "print(r.text[:1000])"
   ]
  },
  {
   "cell_type": "markdown",
   "metadata": {},
   "source": [
    "데이터 저장하기"
   ]
  },
  {
   "cell_type": "code",
   "execution_count": null,
   "metadata": {
    "collapsed": true
   },
   "outputs": [],
   "source": [
    "fname = 'hamlet.txt'"
   ]
  },
  {
   "cell_type": "code",
   "execution_count": null,
   "metadata": {
    "collapsed": true
   },
   "outputs": [],
   "source": [
    "with open(fname, 'w') as fout:\n",
    "    fout.write(r.text)"
   ]
  },
  {
   "cell_type": "markdown",
   "metadata": {},
   "source": [
    "함수 형태로 정리한 코드"
   ]
  },
  {
   "cell_type": "code",
   "execution_count": null,
   "metadata": {
    "collapsed": false
   },
   "outputs": [],
   "source": [
    "import requests\n",
    "    \n",
    "def get_data(url, fname):\n",
    "    r = requests.get(url)\n",
    "    with open(fname, 'w') as fout:\n",
    "        fout.write(r.text)\n",
    "    print('\"{}\" is saved.'.format(fname), end=' ')\n",
    "    print('The length of data is {:,}.'.format(len(r.text)))\n",
    "\n",
    "url = 'http://shakespeare.mit.edu/hamlet/full.html'\n",
    "fname = 'hamlet.txt'\n",
    "get_data(url, fname)"
   ]
  },
  {
   "cell_type": "markdown",
   "metadata": {},
   "source": [
    "## 2-2. 저장한 데이터 불러오기"
   ]
  },
  {
   "cell_type": "code",
   "execution_count": null,
   "metadata": {
    "collapsed": false
   },
   "outputs": [],
   "source": [
    "with open(fname, 'r') as fin:\n",
    "    data = fin.read()\n",
    "    data = data.replace('A NAME', 'A ID') #for find_all method"
   ]
  },
  {
   "cell_type": "markdown",
   "metadata": {},
   "source": [
    "You may need beautifulsoup..."
   ]
  },
  {
   "cell_type": "code",
   "execution_count": null,
   "metadata": {
    "collapsed": false
   },
   "outputs": [],
   "source": [
    "data[:1000]"
   ]
  },
  {
   "cell_type": "markdown",
   "metadata": {},
   "source": [
    "### 2-3. beautifulsoup 사용해서 데이터 파싱하기"
   ]
  },
  {
   "cell_type": "markdown",
   "metadata": {},
   "source": [
    "Documentation: https://cryptosan.github.io/pythondocuments/documents/beautifulsoup4/"
   ]
  },
  {
   "cell_type": "code",
   "execution_count": null,
   "metadata": {
    "collapsed": true
   },
   "outputs": [],
   "source": [
    "from bs4 import BeautifulSoup as bsoup"
   ]
  },
  {
   "cell_type": "code",
   "execution_count": null,
   "metadata": {
    "collapsed": false
   },
   "outputs": [],
   "source": [
    "help(bsoup)"
   ]
  },
  {
   "cell_type": "markdown",
   "metadata": {},
   "source": [
    "일반적인 html 문서의 구조"
   ]
  },
  {
   "cell_type": "markdown",
   "metadata": {},
   "source": [
    "```\n",
    "<html>\n",
    "   <head>\n",
    "      <title>\n",
    "         Example\n",
    "      </title>\n",
    "   </head>\n",
    "\n",
    "   <body>\n",
    "      <h1>Hello, world</h1>\n",
    "   </body>\n",
    "</html>\n",
    "```"
   ]
  },
  {
   "cell_type": "markdown",
   "metadata": {},
   "source": [
    "이는 beautifulsoup을 사용하면 트리 형태로 파싱된다"
   ]
  },
  {
   "cell_type": "code",
   "execution_count": null,
   "metadata": {
    "collapsed": false
   },
   "outputs": [],
   "source": [
    "soup = bsoup(data, 'html.parser')\n",
    "type(soup)"
   ]
  },
  {
   "cell_type": "code",
   "execution_count": null,
   "metadata": {
    "collapsed": false
   },
   "outputs": [],
   "source": [
    "soup.head"
   ]
  },
  {
   "cell_type": "markdown",
   "metadata": {},
   "source": [
    "`find_all` 메서드 사용하여 파싱한 트리 탐색하기\n",
    "- 시그니처: `find_all(name, attrs, recursive, text, limit, **kwargs)`"
   ]
  },
  {
   "cell_type": "code",
   "execution_count": null,
   "metadata": {
    "collapsed": false,
    "scrolled": true
   },
   "outputs": [],
   "source": [
    "lines = soup.find_all('blockquote')\n",
    "len(lines)"
   ]
  },
  {
   "cell_type": "markdown",
   "metadata": {},
   "source": [
    "### 2-4. 등장인물 부분만 담은 리스트, 대사만 담은 리스트 만들기"
   ]
  },
  {
   "cell_type": "markdown",
   "metadata": {},
   "source": [
    "#### 데이터 특징\n",
    "- 등장인물: `<A NAME=speech23><b>BERNARDO</b></a>`\n",
    "- 대사: `<A NAME=1.1.1>Who's there?</A>`\n",
    "\n",
    "#### 위에서 데이터를 불러올 때 NAME을 ID로 바꿨으니, 아래와 같은 특징을 가진다\n",
    "- 등장인물: `<A ID=speech23><b>BERNARDO</b></a>`\n",
    "- 대사: `<A ID=1.1.1>Who's there?</A>`"
   ]
  },
  {
   "cell_type": "markdown",
   "metadata": {},
   "source": [
    "정규표현식 모듈을 사용한 패턴 매칭 예시"
   ]
  },
  {
   "cell_type": "code",
   "execution_count": null,
   "metadata": {
    "collapsed": false
   },
   "outputs": [],
   "source": [
    "import re\n",
    "p_char = re.compile('speech\\d*')\n",
    "p_line = re.compile('\\d*\\.\\d*\\.\\d*')\n",
    "print(p_char.match('speech23'))\n",
    "print(p_line.match('3.4.127'))"
   ]
  },
  {
   "cell_type": "code",
   "execution_count": null,
   "metadata": {
    "collapsed": false
   },
   "outputs": [],
   "source": [
    "print(soup.find_all('a', id='1.1.1'))"
   ]
  },
  {
   "cell_type": "code",
   "execution_count": null,
   "metadata": {
    "collapsed": false
   },
   "outputs": [],
   "source": [
    "char_list = soup.find_all(id=p_char) #등장인물 태그 리스트\n",
    "line_list = soup.find_all(id=p_line) #대사 태그 리스트\n",
    "print(len(char_list), len(line_list))"
   ]
  },
  {
   "cell_type": "code",
   "execution_count": null,
   "metadata": {
    "collapsed": false
   },
   "outputs": [],
   "source": [
    "char_list[0], line_list[0]"
   ]
  },
  {
   "cell_type": "code",
   "execution_count": null,
   "metadata": {
    "collapsed": false
   },
   "outputs": [],
   "source": [
    "type(char_list[0]), type(line_list[0])"
   ]
  },
  {
   "cell_type": "markdown",
   "metadata": {},
   "source": [
    "등장인물, 대사 태그에서 텍스트 부분만 남기기"
   ]
  },
  {
   "cell_type": "code",
   "execution_count": null,
   "metadata": {
    "collapsed": false
   },
   "outputs": [],
   "source": [
    "char_list = [c.text for c in char_list]\n",
    "line_list = [l.text for l in line_list]\n",
    "print(char_list[:10])\n",
    "print(line_list[:10])"
   ]
  },
  {
   "cell_type": "markdown",
   "metadata": {},
   "source": [
    "### 2-5. 개수 세어보기"
   ]
  },
  {
   "cell_type": "markdown",
   "metadata": {},
   "source": [
    "등장인물 개수 세어보기"
   ]
  },
  {
   "cell_type": "code",
   "execution_count": null,
   "metadata": {
    "collapsed": true
   },
   "outputs": [],
   "source": [
    "dic = {}\n",
    "for c in char_list:\n",
    "    if c in dic.keys():\n",
    "        dic[c] += 1\n",
    "    else:\n",
    "        dic[c] = 1"
   ]
  },
  {
   "cell_type": "code",
   "execution_count": null,
   "metadata": {
    "collapsed": false
   },
   "outputs": [],
   "source": [
    "count_pairs = list(dic.items())\n",
    "count_pairs.sort(key=lambda x: x[1], reverse=True)\n",
    "for char, count in count_pairs:\n",
    "    print('{:20}: {}'.format(char, count))"
   ]
  },
  {
   "cell_type": "markdown",
   "metadata": {},
   "source": [
    "대사에 등장하는 단어 개수를 세어보기 전에 전처리를 조금 해보자"
   ]
  },
  {
   "cell_type": "code",
   "execution_count": null,
   "metadata": {
    "collapsed": true
   },
   "outputs": [],
   "source": [
    "def preprocessor(line):\n",
    "    import re\n",
    "    for x in '.:,?!':\n",
    "        line = line.replace(x, ' ')\n",
    "    p = re.compile(' +')\n",
    "    line = p.sub(' ', line)\n",
    "    line = line.strip()\n",
    "    line = line.lower()\n",
    "    return line\n",
    "\n",
    "lines = [preprocessor(l) for l in line_list]"
   ]
  },
  {
   "cell_type": "code",
   "execution_count": null,
   "metadata": {
    "collapsed": true
   },
   "outputs": [],
   "source": [
    "dic = {}\n",
    "for l in lines:\n",
    "    l = l.split(' ')\n",
    "    for w in l:\n",
    "        if w in dic.keys():\n",
    "            dic[w] += 1\n",
    "        else:\n",
    "            dic[w] = 1"
   ]
  },
  {
   "cell_type": "code",
   "execution_count": null,
   "metadata": {
    "collapsed": false
   },
   "outputs": [],
   "source": [
    "count_pairs = list(dic.items())\n",
    "count_pairs.sort(key=lambda x: x[1], reverse=True)\n",
    "for char, count in count_pairs:\n",
    "    if count > 30:\n",
    "        print('{:6}: {}'.format(char, count))"
   ]
  },
  {
   "cell_type": "markdown",
   "metadata": {},
   "source": [
    "참고: 파이썬 표준 라이브러리를 보다 쉽게 개수를 셀 수 있다"
   ]
  },
  {
   "cell_type": "code",
   "execution_count": null,
   "metadata": {
    "collapsed": false
   },
   "outputs": [],
   "source": [
    "from collections import Counter\n",
    "\n",
    "char_counter = Counter(char_list).items()\n",
    "char_counter"
   ]
  }
 ],
 "metadata": {
  "anaconda-cloud": {},
  "kernelspec": {
   "display_name": "Python [conda root]",
   "language": "python",
   "name": "conda-root-py"
  },
  "language_info": {
   "codemirror_mode": {
    "name": "ipython",
    "version": 3
   },
   "file_extension": ".py",
   "mimetype": "text/x-python",
   "name": "python",
   "nbconvert_exporter": "python",
   "pygments_lexer": "ipython3",
   "version": "3.5.2"
  }
 },
 "nbformat": 4,
 "nbformat_minor": 1
}

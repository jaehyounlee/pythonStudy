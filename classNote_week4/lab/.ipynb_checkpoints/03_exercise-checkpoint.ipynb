{
 "cells": [
  {
   "cell_type": "markdown",
   "metadata": {},
   "source": [
    "# Classification: Wisconsin Breast Cancer\n",
    "- Dataset from UCI repository\n",
    "- https://archive.ics.uci.edu/ml/datasets/Breast+Cancer+Wisconsin+(Original)"
   ]
  },
  {
   "cell_type": "markdown",
   "metadata": {},
   "source": [
    "### Attribute Information:\n",
    "\n",
    "1. Sample code number: id number \n",
    "2. Clump Thickness: 1 - 10 \n",
    "3. Uniformity of Cell Size: 1 - 10 \n",
    "4. Uniformity of Cell Shape: 1 - 10 \n",
    "5. Marginal Adhesion: 1 - 10 \n",
    "6. Single Epithelial Cell Size: 1 - 10 \n",
    "7. Bare Nuclei: 1 - 10 \n",
    "8. Bland Chromatin: 1 - 10 \n",
    "9. Normal Nucleoli: 1 - 10 \n",
    "10. Mitoses: 1 - 10 \n",
    "11. Class: (2 for benign, 4 for malignant)"
   ]
  },
  {
   "cell_type": "code",
   "execution_count": 1,
   "metadata": {
    "collapsed": true
   },
   "outputs": [],
   "source": [
    "import pandas as pd"
   ]
  },
  {
   "cell_type": "code",
   "execution_count": 2,
   "metadata": {
    "collapsed": true
   },
   "outputs": [],
   "source": [
    "url = \"https://archive.ics.uci.edu/ml/machine-learning-databases/breast-cancer-wisconsin/breast-cancer-wisconsin.data\"\n",
    "names = [\n",
    "    'Code', 'Clump-Thickness', 'Cell-Size', 'Cell-Shape', 'Adhesion', \n",
    "    'Single-Cell-Size', 'Bare-Nuclei', 'Chromatin', 'Nucleoli', 'Mitoses', 'Class']\n",
    "dataset = pd.read_csv(url, names=names)"
   ]
  },
  {
   "cell_type": "markdown",
   "metadata": {},
   "source": [
    "### 지금까지 배운 모델을 사용해 유방암 여부를 예측하는 좋은 성능의 모델을 만들어보세요."
   ]
  },
  {
   "cell_type": "code",
   "execution_count": 3,
   "metadata": {},
   "outputs": [
    {
     "name": "stdout",
     "output_type": "stream",
     "text": [
      "        Code  Clump-Thickness  Cell-Size  Cell-Shape  Adhesion  \\\n",
      "0    1000025                5          1           1         1   \n",
      "1    1002945                5          4           4         5   \n",
      "2    1015425                3          1           1         1   \n",
      "3    1016277                6          8           8         1   \n",
      "4    1017023                4          1           1         3   \n",
      "5    1017122                8         10          10         8   \n",
      "6    1018099                1          1           1         1   \n",
      "7    1018561                2          1           2         1   \n",
      "8    1033078                2          1           1         1   \n",
      "9    1033078                4          2           1         1   \n",
      "10   1035283                1          1           1         1   \n",
      "11   1036172                2          1           1         1   \n",
      "12   1041801                5          3           3         3   \n",
      "13   1043999                1          1           1         1   \n",
      "14   1044572                8          7           5        10   \n",
      "15   1047630                7          4           6         4   \n",
      "16   1048672                4          1           1         1   \n",
      "17   1049815                4          1           1         1   \n",
      "18   1050670               10          7           7         6   \n",
      "19   1050718                6          1           1         1   \n",
      "20   1054590                7          3           2        10   \n",
      "21   1054593               10          5           5         3   \n",
      "22   1056784                3          1           1         1   \n",
      "23   1057013                8          4           5         1   \n",
      "24   1059552                1          1           1         1   \n",
      "25   1065726                5          2           3         4   \n",
      "26   1066373                3          2           1         1   \n",
      "27   1066979                5          1           1         1   \n",
      "28   1067444                2          1           1         1   \n",
      "29   1070935                1          1           3         1   \n",
      "..       ...              ...        ...         ...       ...   \n",
      "669  1350423                5         10          10         8   \n",
      "670  1352848                3         10           7         8   \n",
      "671  1353092                3          2           1         2   \n",
      "672  1354840                2          1           1         1   \n",
      "673  1354840                5          3           2         1   \n",
      "674  1355260                1          1           1         1   \n",
      "675  1365075                4          1           4         1   \n",
      "676  1365328                1          1           2         1   \n",
      "677  1368267                5          1           1         1   \n",
      "678  1368273                1          1           1         1   \n",
      "679  1368882                2          1           1         1   \n",
      "680  1369821               10         10          10        10   \n",
      "681  1371026                5         10          10        10   \n",
      "682  1371920                5          1           1         1   \n",
      "683   466906                1          1           1         1   \n",
      "684   466906                1          1           1         1   \n",
      "685   534555                1          1           1         1   \n",
      "686   536708                1          1           1         1   \n",
      "687   566346                3          1           1         1   \n",
      "688   603148                4          1           1         1   \n",
      "689   654546                1          1           1         1   \n",
      "690   654546                1          1           1         3   \n",
      "691   695091                5         10          10         5   \n",
      "692   714039                3          1           1         1   \n",
      "693   763235                3          1           1         1   \n",
      "694   776715                3          1           1         1   \n",
      "695   841769                2          1           1         1   \n",
      "696   888820                5         10          10         3   \n",
      "697   897471                4          8           6         4   \n",
      "698   897471                4          8           8         5   \n",
      "\n",
      "     Single-Cell-Size Bare-Nuclei  Chromatin  Nucleoli  Mitoses  Class  \n",
      "0                   2           1          3         1        1      2  \n",
      "1                   7          10          3         2        1      2  \n",
      "2                   2           2          3         1        1      2  \n",
      "3                   3           4          3         7        1      2  \n",
      "4                   2           1          3         1        1      2  \n",
      "5                   7          10          9         7        1      4  \n",
      "6                   2          10          3         1        1      2  \n",
      "7                   2           1          3         1        1      2  \n",
      "8                   2           1          1         1        5      2  \n",
      "9                   2           1          2         1        1      2  \n",
      "10                  1           1          3         1        1      2  \n",
      "11                  2           1          2         1        1      2  \n",
      "12                  2           3          4         4        1      4  \n",
      "13                  2           3          3         1        1      2  \n",
      "14                  7           9          5         5        4      4  \n",
      "15                  6           1          4         3        1      4  \n",
      "16                  2           1          2         1        1      2  \n",
      "17                  2           1          3         1        1      2  \n",
      "18                  4          10          4         1        2      4  \n",
      "19                  2           1          3         1        1      2  \n",
      "20                  5          10          5         4        4      4  \n",
      "21                  6           7          7        10        1      4  \n",
      "22                  2           1          2         1        1      2  \n",
      "23                  2           ?          7         3        1      4  \n",
      "24                  2           1          3         1        1      2  \n",
      "25                  2           7          3         6        1      4  \n",
      "26                  1           1          2         1        1      2  \n",
      "27                  2           1          2         1        1      2  \n",
      "28                  2           1          2         1        1      2  \n",
      "29                  2           1          1         1        1      2  \n",
      "..                ...         ...        ...       ...      ...    ...  \n",
      "669                 5           5          7        10        1      4  \n",
      "670                 5           8          7         4        1      4  \n",
      "671                 2           1          3         1        1      2  \n",
      "672                 2           1          3         1        1      2  \n",
      "673                 3           1          1         1        1      2  \n",
      "674                 2           1          2         1        1      2  \n",
      "675                 2           1          1         1        1      2  \n",
      "676                 2           1          2         1        1      2  \n",
      "677                 2           1          1         1        1      2  \n",
      "678                 2           1          1         1        1      2  \n",
      "679                 2           1          1         1        1      2  \n",
      "680                 5          10         10        10        7      4  \n",
      "681                 4          10          5         6        3      4  \n",
      "682                 2           1          3         2        1      2  \n",
      "683                 2           1          1         1        1      2  \n",
      "684                 2           1          1         1        1      2  \n",
      "685                 2           1          1         1        1      2  \n",
      "686                 2           1          1         1        1      2  \n",
      "687                 2           1          2         3        1      2  \n",
      "688                 2           1          1         1        1      2  \n",
      "689                 2           1          1         1        8      2  \n",
      "690                 2           1          1         1        1      2  \n",
      "691                 4           5          4         4        1      4  \n",
      "692                 2           1          1         1        1      2  \n",
      "693                 2           1          2         1        2      2  \n",
      "694                 3           2          1         1        1      2  \n",
      "695                 2           1          1         1        1      2  \n",
      "696                 7           3          8        10        2      4  \n",
      "697                 3           4         10         6        1      4  \n",
      "698                 4           5         10         4        1      4  \n",
      "\n",
      "[699 rows x 11 columns]\n"
     ]
    }
   ],
   "source": [
    "print(dataset)"
   ]
  }
 ],
 "metadata": {
  "kernelspec": {
   "display_name": "Python 3",
   "language": "python",
   "name": "python3"
  },
  "language_info": {
   "codemirror_mode": {
    "name": "ipython",
    "version": 3
   },
   "file_extension": ".py",
   "mimetype": "text/x-python",
   "name": "python",
   "nbconvert_exporter": "python",
   "pygments_lexer": "ipython3",
   "version": "3.6.1"
  }
 },
 "nbformat": 4,
 "nbformat_minor": 2
}

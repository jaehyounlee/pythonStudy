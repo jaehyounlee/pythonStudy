{
 "cells": [
  {
   "cell_type": "markdown",
   "metadata": {},
   "source": [
    "# Built-in Data Types\n",
    "\n",
    "담을 수 있는 데이터 개수에 따라..\n",
    "- Atomic Types: `bool`, `int`, `float`\n",
    "- Sequence Types: `list`, `tuple`, `str` Classes\n",
    "- `set` and `frozenset` Classes\n",
    "- `dict` Class\n",
    "\n",
    "![](./img/built-in-classes.png)"
   ]
  },
  {
   "cell_type": "markdown",
   "metadata": {},
   "source": [
    "# 1. List: 여러 데이터를 담는 가장 기본적인 자료형"
   ]
  },
  {
   "cell_type": "markdown",
   "metadata": {},
   "source": [
    "### list 만들기"
   ]
  },
  {
   "cell_type": "markdown",
   "metadata": {},
   "source": [
    "![](./img/prime.png)"
   ]
  },
  {
   "cell_type": "code",
   "execution_count": null,
   "metadata": {
    "collapsed": true
   },
   "outputs": [],
   "source": [
    "primes = [2, 3, 5, 7, 11, 13, 17, 19, 23, 29, 31]"
   ]
  },
  {
   "cell_type": "markdown",
   "metadata": {},
   "source": [
    "### 리스트 사용 예시"
   ]
  },
  {
   "cell_type": "code",
   "execution_count": null,
   "metadata": {},
   "outputs": [],
   "source": [
    "def get_primes(n):\n",
    "    from math import sqrt\n",
    "    primes = [] # Initialization\n",
    "    # for loop to find primes less or equal to `n`\n",
    "    for k in range(2, n+1):\n",
    "        remainder_list = [k%d > 0 for d in primes if d <= sqrt(k)]\n",
    "        if not remainder_list or all(remainder_list):\n",
    "            primes.append(k)\n",
    "    return primes\n",
    "\n",
    "get_primes(31)"
   ]
  },
  {
   "cell_type": "markdown",
   "metadata": {},
   "source": [
    "### iterable한 자료는 list로 만들 수 있다.\n",
    "- iterable types: string, list, tuple, set, dictionary"
   ]
  },
  {
   "cell_type": "code",
   "execution_count": null,
   "metadata": {},
   "outputs": [],
   "source": [
    "list(\"hello\")"
   ]
  },
  {
   "cell_type": "markdown",
   "metadata": {},
   "source": [
    "# 2. Tuple: list의 immutable 버전"
   ]
  },
  {
   "cell_type": "markdown",
   "metadata": {},
   "source": [
    "### tuple은 한 번 만들어지면 값을 바꿀 수 없다.\n",
    "- 값을 바꾸고 싶다면, 새 tuple을 만들어 재할당 해줘야 한다."
   ]
  },
  {
   "cell_type": "code",
   "execution_count": null,
   "metadata": {},
   "outputs": [],
   "source": [
    "primes_list = [2, 3, 5, 7, 11, 13, 17, 19, 23, 29, 31]\n",
    "primes_list.append(37)\n",
    "print(primes_list)\n",
    "\n",
    "primes_tuple = tuple(primes_list)\n",
    "print(primes_tuple)"
   ]
  },
  {
   "cell_type": "code",
   "execution_count": null,
   "metadata": {
    "scrolled": true
   },
   "outputs": [],
   "source": [
    "primes_tuple.append(41)"
   ]
  },
  {
   "cell_type": "markdown",
   "metadata": {},
   "source": [
    "### 길이 1의 tuple을 만들고 싶다면 `,`를 사용해야 한다!"
   ]
  },
  {
   "cell_type": "code",
   "execution_count": null,
   "metadata": {},
   "outputs": [],
   "source": [
    "tuple_without_comma = (3)\n",
    "tuple_with_comma = (3,)\n",
    "print('{}\\t: {}'.format(tuple_with_comma, type(tuple_with_comma)))\n",
    "print('{}\\t: {}'.format(tuple_without_comma, type(tuple_without_comma)))"
   ]
  },
  {
   "cell_type": "markdown",
   "metadata": {},
   "source": [
    "## Q. 굳이 tuple이 필요한 이유? list만 있으면 되는 거 아닌가? \n",
    "\n",
    "이를 알아보려면 mutable vs. immutable의 개념을 이해해야 함\n",
    "\n",
    "#### Mutable types\n",
    "- 데이터의 in-place modification (제자리 수정)이 가능하도록 하는 메서드가 존재\n",
    "- list (`list.append()`)\n",
    "- dictionary (`dict.pop()`)"
   ]
  },
  {
   "cell_type": "code",
   "execution_count": null,
   "metadata": {},
   "outputs": [],
   "source": [
    "# Lists are mutable\n",
    "my_list = [1, 2, 3]\n",
    "my_list[0] = 4\n",
    "print(my_list) # [4, 2, 3] <- The same list, changed"
   ]
  },
  {
   "cell_type": "markdown",
   "metadata": {},
   "source": [
    "#### Immutable types\n",
    "- 데이터 내용을 수정하기 위한 메서드가 존재하지 않음\n",
    "- `x = 6`일 때, `x.increment()`와 같은 메서드는 없음\n",
    "    - 새 값을 만들어 재할당 해줘야 함 (`x = x + 1`)"
   ]
  },
  {
   "cell_type": "code",
   "execution_count": null,
   "metadata": {},
   "outputs": [],
   "source": [
    "# Integers are immutable\n",
    "x = 6\n",
    "x = x + 1 # The new x occupies a different location in memory."
   ]
  },
  {
   "cell_type": "markdown",
   "metadata": {},
   "source": [
    "### (!) Mutable type은 dictionary의 key로 쓸 수 없다.\n",
    "- since they are not hashable...\n",
    "- 따라서, 여러 개의 자료로 구성한 key를 사용하고 싶다면 list가 아닌 tuple을 사용해야 한다."
   ]
  },
  {
   "cell_type": "markdown",
   "metadata": {},
   "source": [
    "# 3. Dict: key와 value로 구성되는 검색용 자료형"
   ]
  },
  {
   "cell_type": "markdown",
   "metadata": {},
   "source": [
    "### key와 대응하는 value를 찾는다! (mapping)\n",
    "- 따라서, key는 중복될 수 없다.\n",
    "### 검색속도가 매우 빠르다 ($O(1)$)"
   ]
  },
  {
   "cell_type": "markdown",
   "metadata": {},
   "source": [
    "![](./img/dict.png)"
   ]
  },
  {
   "cell_type": "code",
   "execution_count": null,
   "metadata": {},
   "outputs": [],
   "source": [
    "dic = {} # initialization\n",
    "dic['a'] = 'alpha'\n",
    "dic['o'] = 'omega'\n",
    "dic['g'] = 'gamma'\n",
    "print(dic)\n",
    "\n",
    "### create a dictionary with a list of key-value pairs\n",
    "pairs = [('a', 'alpha'), ('g', 'gamma'), ('o', 'omega')]\n",
    "print (dict(pairs))"
   ]
  },
  {
   "cell_type": "markdown",
   "metadata": {},
   "source": [
    "### `dict.keys()`: dictionary의 key로 구성된 iterable 객체"
   ]
  },
  {
   "cell_type": "code",
   "execution_count": null,
   "metadata": {},
   "outputs": [],
   "source": [
    "my_string = 'hello, spring!'\n",
    "print(my_string)\n",
    "my_list = [dic[c] if c in dic.keys() else c for c in my_string]\n",
    "print(''.join(my_list))"
   ]
  },
  {
   "cell_type": "markdown",
   "metadata": {},
   "source": [
    "### `dict.items()`: dictionary의 (key, value)로 구성된 iterable 객체"
   ]
  },
  {
   "cell_type": "code",
   "execution_count": null,
   "metadata": {},
   "outputs": [],
   "source": [
    "print(dic.items())\n",
    "for k, v in sorted(dic.items()):\n",
    "    print('{}: {}'.format(k, v))"
   ]
  },
  {
   "cell_type": "markdown",
   "metadata": {},
   "source": [
    "### key는 immutable type이어야 한다."
   ]
  },
  {
   "cell_type": "code",
   "execution_count": null,
   "metadata": {
    "collapsed": true
   },
   "outputs": [],
   "source": [
    "dic = {['krw', 'usd']: 1100, ['krw', 'jpy']: 1000}"
   ]
  },
  {
   "cell_type": "code",
   "execution_count": null,
   "metadata": {
    "collapsed": true
   },
   "outputs": [],
   "source": [
    "dic = {('krw', 'usd'): 1100, ('krw', 'jpy'): 1000}"
   ]
  },
  {
   "cell_type": "markdown",
   "metadata": {},
   "source": [
    "# 4. Str: 문자열"
   ]
  },
  {
   "cell_type": "markdown",
   "metadata": {},
   "source": [
    "### 문자마다 순서대로 index가 주어지며, list와 비슷한 연산이 가능함"
   ]
  },
  {
   "cell_type": "markdown",
   "metadata": {},
   "source": [
    "![](./img/sample.png)"
   ]
  },
  {
   "cell_type": "code",
   "execution_count": null,
   "metadata": {
    "scrolled": true
   },
   "outputs": [],
   "source": [
    "my_str = 'SAMPLE'\n",
    "print(my_str[0]) #indexing\n",
    "print(my_str[:3]) #slicing\n",
    "print(my_str + my_str) #append"
   ]
  },
  {
   "cell_type": "markdown",
   "metadata": {},
   "source": [
    "### 그러나, str은 immutable하다."
   ]
  },
  {
   "cell_type": "code",
   "execution_count": null,
   "metadata": {},
   "outputs": [],
   "source": [
    "s = \"I'm not mutable\"\n",
    "s[1:7] = \" am\""
   ]
  },
  {
   "cell_type": "code",
   "execution_count": null,
   "metadata": {},
   "outputs": [],
   "source": [
    "s = ['Str', 'is', 'not', 'mutable']\n",
    "print(' '.join(s))\n",
    "\n",
    "s.pop(2)\n",
    "s[0] = 'List'\n",
    "print(' '.join(s))"
   ]
  },
  {
   "cell_type": "markdown",
   "metadata": {},
   "source": [
    "### formatting 방법"
   ]
  },
  {
   "cell_type": "code",
   "execution_count": null,
   "metadata": {},
   "outputs": [],
   "source": [
    "adj = \"Red\"\n",
    "noun = \"Alert\"\n",
    "\n",
    "cheese = \"%s %s\" % (adj, noun) # This style was deprecated (PEP 3101)\n",
    "print(cheese)\n",
    "cheese = \"{} {}\".format(adj, noun) # Possible since Python 3\n",
    "print(cheese)\n",
    "cheese = \"{0} {1} {1} {0}\".format(adj, noun) # Numbers can also be reused\n",
    "print(cheese)\n",
    "cheese = \"{adj} {noun}\".format(adj=adj, noun=noun) # This style is best\n",
    "print(cheese)"
   ]
  },
  {
   "cell_type": "markdown",
   "metadata": {},
   "source": [
    "# 5. Set: 수학에서의 집합을 구현한 자료형"
   ]
  },
  {
   "cell_type": "markdown",
   "metadata": {},
   "source": [
    "### 자료를 중복 없이 저장하며, 순서가 없음"
   ]
  },
  {
   "cell_type": "code",
   "execution_count": null,
   "metadata": {},
   "outputs": [],
   "source": [
    "set('hello')"
   ]
  },
  {
   "cell_type": "markdown",
   "metadata": {},
   "source": [
    "### 값이 특정 자료 모음에 속하는지 아닌지 파악하기 위해 많이 사용함\n",
    "- dictionary와 마찬가지로 속도가 매우 빠름"
   ]
  },
  {
   "cell_type": "code",
   "execution_count": null,
   "metadata": {},
   "outputs": [],
   "source": [
    "x = set('I am a girl'.split(' '))\n",
    "print('girl' in x)\n",
    "print('boy' in x)"
   ]
  },
  {
   "cell_type": "markdown",
   "metadata": {},
   "source": [
    "### immutable 자료만 Set의 구성요소가 될 수 있음\n",
    "- dictionary와 마찬가지임"
   ]
  },
  {
   "cell_type": "code",
   "execution_count": null,
   "metadata": {},
   "outputs": [],
   "source": [
    "x = set()  #initialization\n",
    "x.add(3)   #int is immutable\n",
    "print(x)\n",
    "x.add([3]) #list is mutable\n",
    "print(x)"
   ]
  },
  {
   "cell_type": "markdown",
   "metadata": {},
   "source": [
    "### set을 immutable 자료형으로 바꾸고 싶다면 frozenset을 사용한다"
   ]
  },
  {
   "cell_type": "code",
   "execution_count": null,
   "metadata": {},
   "outputs": [],
   "source": [
    "my_set = {'red', 'green', 'blue'}\n",
    "print(my_set)\n",
    "print(type(my_set))\n",
    "\n",
    "my_frozenset = frozenset(my_set)\n",
    "print(my_frozenset)\n",
    "print(type(my_frozenset))\n",
    "\n",
    "print('---')\n",
    "\n",
    "my_set_of_set = {my_set}\n",
    "print(my_set_of_set)\n",
    "\n",
    "my_set_of_frozenset = {my_frozenset}\n",
    "print(my_set_of_frozenset)"
   ]
  }
 ],
 "metadata": {
  "kernelspec": {
   "display_name": "Python 3",
   "language": "python",
   "name": "python3"
  },
  "language_info": {
   "codemirror_mode": {
    "name": "ipython",
    "version": 3
   },
   "file_extension": ".py",
   "mimetype": "text/x-python",
   "name": "python",
   "nbconvert_exporter": "python",
   "pygments_lexer": "ipython3",
   "version": "3.6.1"
  }
 },
 "nbformat": 4,
 "nbformat_minor": 2
}

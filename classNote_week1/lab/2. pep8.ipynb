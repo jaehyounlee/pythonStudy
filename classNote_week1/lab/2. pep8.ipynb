{
 "cells": [
  {
   "cell_type": "markdown",
   "metadata": {},
   "source": [
    "# Recall: 파이썬 기본\n",
    "\n",
    "## 1. 자기소개\n",
    "\n",
    "- Variable\n",
    "  - assignment\n",
    "  - type\n",
    "- Define a function\n",
    "\n",
    "## 2. 햄릿\n",
    "\n",
    "- import some package\n",
    "  - reading a package's documentation\n",
    "  - find methods we need\n",
    "- file I/O\n",
    "- list\n",
    "    - slicing\n",
    "    - list comprehension\n",
    "- dictionary\n",
    "- for loop"
   ]
  },
  {
   "cell_type": "markdown",
   "metadata": {},
   "source": [
    "---\n",
    "# 기초를 제대로 짚고 실전으로 넘어가자\n",
    "---"
   ]
  },
  {
   "cell_type": "markdown",
   "metadata": {},
   "source": [
    "# PEP 8: 파이썬 스타일 가이드\n",
    "- https://www.python.org/dev/peps/pep-0008/\n",
    "- 아래 예시는 기본 수준의 가이드 소개이며, 나머지 내용은 관련 내용이 나올 때마다 소개할 예정"
   ]
  },
  {
   "cell_type": "markdown",
   "metadata": {},
   "source": [
    "### 1. 공백\n",
    "\n",
    "파이썬에서 공백은 문법적으로 의미가 있다. \n",
    "- 탭 vs 스페이스: 스페이스 4개\n",
    "- 변수 할당(`=`) 앞뒤로 스페이스 하나씩만 사용\n",
    "- 스페이스를 사용하지 말아야 할 곳: 리스트 인덱스, 함수 호출, 키워드 인수 할당"
   ]
  },
  {
   "cell_type": "code",
   "execution_count": null,
   "metadata": {
    "collapsed": false
   },
   "outputs": [],
   "source": [
    "fname='whitespace.txt'\n",
    "with open(fname, 'w') as fout:\n",
    "    base_string    =  '파이썬에서는 의미 있는 들여쓰기에 공백 {}개를 사용한다.'\n",
    "    num_whitespace =  4\n",
    "    fout.write(base_string.format(num_whitespace))\n",
    "print ('file is saved @ {}'.format(fname))\n",
    "print ('---')\n",
    "\n",
    "for i, c in enumerate(fname):\n",
    "    print ('fname[{}] = {}'.format(i, fname[ i ]))"
   ]
  },
  {
   "cell_type": "markdown",
   "metadata": {},
   "source": [
    "위의 코드 스타일을 `pylint`를 사용하여 체크해보자."
   ]
  },
  {
   "cell_type": "code",
   "execution_count": null,
   "metadata": {
    "collapsed": false
   },
   "outputs": [],
   "source": [
    "%%file whitespace.py\n",
    "with open(fname, 'w') as fout:\n",
    "    base_string    =  '파이썬에서는 의미 있는 들여쓰기에 공백 {}개를 사용한다.'\n",
    "    num_whitespace =  4\n",
    "    fout.write(base_string.format(num_whitespace))\n",
    "print ('file is saved @ {}'.format(fname))\n",
    "print ('---')\n",
    "\n",
    "for i, c in enumerate(fname):\n",
    "    print ('fname[{}] = {}'.format(i, fname[ i ]))"
   ]
  },
  {
   "cell_type": "markdown",
   "metadata": {},
   "source": [
    "### 2. 줄바꿈\n",
    "\n",
    "가독성을 위해 줄바꿈에 신경을 쓰자.\n",
    "- 한 줄에 문자 최대 80개 수준\n",
    "- 표현이 길어져 다음 줄로 이어지면, 추가로 스페이스 4개 사용"
   ]
  },
  {
   "cell_type": "markdown",
   "metadata": {},
   "source": [
    "### 3. 명명\n",
    "- 함수, 변수, 속성: `lower_case_underscore` 형식\n",
    "- 클래스: `CapitalizedWord` 형식\n",
    "- 모듈 수준 상수: `ALL_CAPS` 형식"
   ]
  },
  {
   "cell_type": "markdown",
   "metadata": {
    "collapsed": true
   },
   "source": [
    "### 4. 표현식과 문장\n",
    "\n",
    "어떤 일에든 명확한 – 바람직하며 유일한 – 방법이 존재한다\n",
    "\n",
    "두 값 비교하기\n",
    "- Yes: `if a is not b`\n",
    "- No: `if not a is b`\n",
    "\n",
    "리스트가 비었는지 확인\n",
    "- Yes: `if not somelist`\n",
    "- No: `if len(somelist) == 0`\n",
    "\n",
    "리스트가 비어있지 않은지 확인\n",
    "- Yes: `if somelist`\n",
    "- No: `if len(somelist) > 0`\n",
    "\n",
    "\n",
    "`import`문은 파일의 맨 위에 놓고, 표준 라이브러리, 서드파티, 사용자가 만든 모듈 순으로 섹션을 나누어 불러온다. (섹션 안에서 알파벳 순 정렬)"
   ]
  },
  {
   "cell_type": "markdown",
   "metadata": {},
   "source": [
    "  "
   ]
  },
  {
   "cell_type": "markdown",
   "metadata": {},
   "source": [
    "## (참고) 변수명, 함수명, 클래스명으로 사용하면 안되는 이름\n",
    "![](./img/reserved_words.png)"
   ]
  }
 ],
 "metadata": {
  "kernelspec": {
   "display_name": "Python [conda root]",
   "language": "python",
   "name": "conda-root-py"
  },
  "language_info": {
   "codemirror_mode": {
    "name": "ipython",
    "version": 3
   },
   "file_extension": ".py",
   "mimetype": "text/x-python",
   "name": "python",
   "nbconvert_exporter": "python",
   "pygments_lexer": "ipython3",
   "version": "3.5.2"
  }
 },
 "nbformat": 4,
 "nbformat_minor": 2
}

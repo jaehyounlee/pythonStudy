{
 "cells": [
  {
   "cell_type": "markdown",
   "metadata": {},
   "source": [
    "# (prerequisite) 변수 할당"
   ]
  },
  {
   "cell_type": "markdown",
   "metadata": {},
   "source": [
    "![](./img/temp1.png)"
   ]
  },
  {
   "cell_type": "code",
   "execution_count": null,
   "metadata": {
    "collapsed": true
   },
   "outputs": [],
   "source": [
    "temperature = 98.6"
   ]
  },
  {
   "cell_type": "markdown",
   "metadata": {},
   "source": [
    "![](./img/temp2.png)"
   ]
  },
  {
   "cell_type": "code",
   "execution_count": null,
   "metadata": {
    "collapsed": true
   },
   "outputs": [],
   "source": [
    "original = temperature"
   ]
  },
  {
   "cell_type": "markdown",
   "metadata": {},
   "source": [
    "![](./img/temp3.png)"
   ]
  },
  {
   "cell_type": "code",
   "execution_count": null,
   "metadata": {
    "collapsed": false
   },
   "outputs": [],
   "source": [
    "temperature = temperature + 5.0\n",
    "print(temperature)\n",
    "temperature += 5.0\n",
    "print(temperature)"
   ]
  },
  {
   "cell_type": "markdown",
   "metadata": {},
   "source": [
    "# `is` vs. `==`"
   ]
  },
  {
   "cell_type": "markdown",
   "metadata": {},
   "source": [
    "`is`가 `==`보다 \"좁은\" 의미의 검사이다.\n",
    "- `==`는 값의 일치여부 뿐만 아니라, 같은 메모리 위치인지까지 확인하는 것!"
   ]
  },
  {
   "cell_type": "code",
   "execution_count": null,
   "metadata": {
    "collapsed": false,
    "scrolled": false
   },
   "outputs": [],
   "source": [
    "temp1 = 98.6\n",
    "original = temp1\n",
    "temp2 = 98.6\n",
    "print(temp1, temp2, original)\n",
    "\n",
    "print(temp1 is original) # value: same, address: same\n",
    "print(temp1 == original) # value: same, address: same\n",
    "print(temp1 is temp2) # value: same, address: not same\n",
    "print(temp1 == temp2) # value: same, address: not same"
   ]
  },
  {
   "cell_type": "code",
   "execution_count": null,
   "metadata": {
    "collapsed": false
   },
   "outputs": [],
   "source": [
    "temp1 += 5\n",
    "print(temp1, temp2, original)"
   ]
  },
  {
   "cell_type": "markdown",
   "metadata": {},
   "source": [
    "# Sequence Operators"
   ]
  },
  {
   "cell_type": "markdown",
   "metadata": {},
   "source": [
    "![](./img/seqop1.png)"
   ]
  },
  {
   "cell_type": "code",
   "execution_count": null,
   "metadata": {
    "collapsed": false
   },
   "outputs": [],
   "source": [
    "#str\n",
    "s = 'hello, world'\n",
    "print(s[3])\n",
    "print(s[-3])\n",
    "print(s[3:5])\n",
    "print(s[0:len(s):2])\n",
    "print(s + s)\n",
    "print(s * 3)\n",
    "print('o' in s)\n",
    "print('o' not in s)"
   ]
  },
  {
   "cell_type": "code",
   "execution_count": null,
   "metadata": {
    "collapsed": false
   },
   "outputs": [],
   "source": [
    "#list\n",
    "s = list(range(6))\n",
    "print(s[3])\n",
    "print(s[3:5])\n",
    "print(s[0:len(s):2])\n",
    "print(s + s)\n",
    "print(s * 3)\n",
    "print(2 in s)\n",
    "print(2 not in s)"
   ]
  },
  {
   "cell_type": "markdown",
   "metadata": {},
   "source": [
    "# Comparison operators for Sequence types\n",
    "- based on lexicographic order (사전식 순서)"
   ]
  },
  {
   "cell_type": "markdown",
   "metadata": {},
   "source": [
    "![](./img/seqop2.png)"
   ]
  },
  {
   "cell_type": "code",
   "execution_count": null,
   "metadata": {
    "collapsed": false
   },
   "outputs": [],
   "source": [
    "x = 'hello'\n",
    "y = 'helle'\n",
    "print(x == y)\n",
    "print(x > y) #lexicographic order"
   ]
  },
  {
   "cell_type": "markdown",
   "metadata": {},
   "source": [
    "# Operators for sets and frozensets"
   ]
  },
  {
   "cell_type": "markdown",
   "metadata": {},
   "source": [
    "![](./img/setop.png)"
   ]
  },
  {
   "cell_type": "code",
   "execution_count": null,
   "metadata": {
    "collapsed": false
   },
   "outputs": [],
   "source": [
    "x = set('hello')\n",
    "y = set('helle')\n",
    "print(x, y)\n",
    "print('o' in x)\n",
    "print(x < y) #subset\n",
    "print(x | y) #union\n",
    "print(x & y) #intersection\n",
    "print(x - y) #complement\n",
    "print(x ^ y) #union - intersection"
   ]
  },
  {
   "cell_type": "markdown",
   "metadata": {},
   "source": [
    "# Operators for dictionaries"
   ]
  },
  {
   "cell_type": "markdown",
   "metadata": {},
   "source": [
    "![](./img/dicop.png)"
   ]
  },
  {
   "cell_type": "code",
   "execution_count": null,
   "metadata": {
    "collapsed": false
   },
   "outputs": [],
   "source": [
    "dic = dict([('a', 'alpha'), ('g', 'gamma'), ('o', 'omega')])\n",
    "print(dic)\n",
    "print(dic['a'] == 'alpaa')\n",
    "del dic['a']\n",
    "print(dic)"
   ]
  }
 ],
 "metadata": {
  "kernelspec": {
   "display_name": "Python [conda root]",
   "language": "python",
   "name": "conda-root-py"
  },
  "language_info": {
   "codemirror_mode": {
    "name": "ipython",
    "version": 3
   },
   "file_extension": ".py",
   "mimetype": "text/x-python",
   "name": "python",
   "nbconvert_exporter": "python",
   "pygments_lexer": "ipython3",
   "version": "3.5.2"
  }
 },
 "nbformat": 4,
 "nbformat_minor": 2
}

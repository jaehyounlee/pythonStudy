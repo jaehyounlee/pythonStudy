{
 "cells": [
  {
   "cell_type": "markdown",
   "metadata": {},
   "source": [
    "# Recall: 지난 시간에 다룬 파이썬 기본\n",
    "\n",
    "## 1. 자기소개\n",
    "\n",
    "- Variable\n",
    "  - assignment\n",
    "  - type\n",
    "- Define a function\n",
    "\n",
    "## 2. 햄릿\n",
    "\n",
    "- import some package\n",
    "  - reading a package's documentation\n",
    "  - find methods we need\n",
    "- file I/O\n",
    "- list\n",
    "    - slicing\n",
    "    - list comprehension\n",
    "- dictionary\n",
    "- for loop"
   ]
  },
  {
   "cell_type": "markdown",
   "metadata": {},
   "source": [
    "---\n",
    "# 기초를 제대로 짚고 실전으로 넘어가자\n",
    "---"
   ]
  },
  {
   "cell_type": "markdown",
   "metadata": {},
   "source": [
    "# PEP 8: 파이썬 스타일 가이드\n",
    "- https://www.python.org/dev/peps/pep-0008/\n",
    "- 아래 예시는 기본 수준의 가이드 소개이며, 나머지 내용은 관련 내용이 나올 때마다 소개할 예정"
   ]
  },
  {
   "cell_type": "markdown",
   "metadata": {},
   "source": [
    "### 1. 공백\n",
    "\n",
    "파이썬에서 공백은 문법적으로 의미가 있다. \n",
    "- 탭 vs 스페이스: 스페이스 4개\n",
    "- 변수 할당(`=`) 앞뒤로 스페이스 하나씩만 사용\n",
    "- 스페이스를 사용하지 말아야 할 곳: 리스트 인덱스, 함수 호출, 키워드 인수 할당"
   ]
  },
  {
   "cell_type": "code",
   "execution_count": 19,
   "metadata": {
    "collapsed": false
   },
   "outputs": [
    {
     "name": "stdout",
     "output_type": "stream",
     "text": [
      "file is saved @ whitespace.txt\n",
      "---\n",
      "fname[0] = w\n",
      "fname[1] = h\n",
      "fname[2] = i\n",
      "fname[3] = t\n",
      "fname[4] = e\n",
      "fname[5] = s\n",
      "fname[6] = p\n",
      "fname[7] = a\n",
      "fname[8] = c\n",
      "fname[9] = e\n",
      "fname[10] = .\n",
      "fname[11] = t\n",
      "fname[12] = x\n",
      "fname[13] = t\n"
     ]
    }
   ],
   "source": [
    "fname='whitespace.txt'\n",
    "with open(fname, 'w') as fout:\n",
    "    base_string    =  '파이썬에서는 의미 있는 들여쓰기에 공백 {}개를 사용한다.'\n",
    "    num_whitespace =  4\n",
    "    fout.write(base_string.format(num_whitespace))\n",
    "print ('file is saved @ {}'.format(fname))\n",
    "print ('---')\n",
    "\n",
    "for i, c in enumerate(fname):\n",
    "    print ('fname[{}] = {}'.format(i, fname[ i ]))"
   ]
  },
  {
   "cell_type": "markdown",
   "metadata": {},
   "source": [
    "위의 코드 스타일을 `pylint`를 사용하여 체크해보자."
   ]
  },
  {
   "cell_type": "code",
   "execution_count": 18,
   "metadata": {
    "collapsed": false
   },
   "outputs": [
    {
     "name": "stdout",
     "output_type": "stream",
     "text": [
      "Writing whitespace.py\n"
     ]
    }
   ],
   "source": [
    "%%file whitespace.py\n",
    "with open(fname, 'w') as fout:\n",
    "    base_string    =  '파이썬에서는 의미 있는 들여쓰기에 공백 {}개를 사용한다.'\n",
    "    num_whitespace =  4\n",
    "    fout.write(base_string.format(num_whitespace))\n",
    "print ('file is saved @ {}'.format(fname))\n",
    "print ('---')\n",
    "\n",
    "for i, c in enumerate(fname):\n",
    "    print ('fname[{}] = {}'.format(i, fname[ i ]))"
   ]
  },
  {
   "cell_type": "markdown",
   "metadata": {},
   "source": [
    "### 2. 줄바꿈\n",
    "\n",
    "가독성을 위해 줄바꿈에 신경을 쓰자.\n",
    "- 한 줄에 문자 최대 80개 수준\n",
    "- 표현이 길어져 다음 줄로 이어지면, 추가로 스페이스 4개 사용"
   ]
  },
  {
   "cell_type": "markdown",
   "metadata": {},
   "source": [
    "### 3. 명명\n",
    "- 함수, 변수, 속성: `lower_case_underscore` 형식\n",
    "- 클래스: `CapitalizedWord` 형식\n",
    "- 모듈 수준 상수: `ALL_CAPS` 형식"
   ]
  },
  {
   "cell_type": "markdown",
   "metadata": {
    "collapsed": true
   },
   "source": [
    "### 4. 표현식과 문장\n",
    "\n",
    "어떤 일에든 명확한 – 바람직하며 유일한 – 방법이 존재한다\n",
    "\n",
    "두 값 비교하기\n",
    "- Yes: `if a is not b`\n",
    "- No: `if not a is b`\n",
    "\n",
    "리스트가 비었는지 확인\n",
    "- Yes: `if not somelist`\n",
    "- No: `if len(somelist) == 0`\n",
    "\n",
    "리스트가 비어있지 않은지 확인\n",
    "- Yes: `if somelist`\n",
    "- No: `if len(somelist) > 0`\n",
    "\n",
    "\n",
    "`import`문은 파일의 맨 위에 놓고, 표준 라이브러리, 서드파티, 사용자가 만든 모듈 순으로 섹션을 나누어 불러온다. (섹션 안에서 알파벳 순 정렬)"
   ]
  },
  {
   "cell_type": "markdown",
   "metadata": {},
   "source": [
    "  "
   ]
  },
  {
   "cell_type": "markdown",
   "metadata": {},
   "source": [
    "# Built-in Data Types\n",
    "\n",
    "![](./img/built-in-classes.png)"
   ]
  },
  {
   "cell_type": "markdown",
   "metadata": {},
   "source": [
    "### 담을 수 있는 데이터 개수에 따라..\n",
    "- Atomic Types: `bool`, `int`, `float`\n",
    "- Sequence Types: `list`, `tuple`, `str` Classes\n",
    "- `set` and `frozenset` Classes\n",
    "- `dict` Class"
   ]
  },
  {
   "cell_type": "code",
   "execution_count": null,
   "metadata": {
    "collapsed": true
   },
   "outputs": [],
   "source": []
  },
  {
   "cell_type": "markdown",
   "metadata": {},
   "source": [
    "### List"
   ]
  },
  {
   "cell_type": "code",
   "execution_count": 28,
   "metadata": {
    "collapsed": true
   },
   "outputs": [],
   "source": [
    "primes = [2, 3, 5, 7, 11, 13, 17, 19, 23, 29, 31]"
   ]
  },
  {
   "cell_type": "markdown",
   "metadata": {},
   "source": [
    "![](./img/prime.png)"
   ]
  },
  {
   "cell_type": "code",
   "execution_count": 29,
   "metadata": {
    "collapsed": true
   },
   "outputs": [],
   "source": [
    "my_str = 'SAMPLE'"
   ]
  },
  {
   "cell_type": "markdown",
   "metadata": {},
   "source": [
    "![](./img/sample.png)"
   ]
  },
  {
   "cell_type": "markdown",
   "metadata": {},
   "source": [
    "### Immutable이 뭔가요?\n",
    "\n",
    "Mutable types\n",
    "- 데이터의 in-place modification (제자리 수정)이 가능하도록 하는 메서드가 존재\n",
    "- list (`list.append()`)\n",
    "- dictionary (`dict.pop()`)"
   ]
  },
  {
   "cell_type": "code",
   "execution_count": 22,
   "metadata": {
    "collapsed": false
   },
   "outputs": [
    {
     "name": "stdout",
     "output_type": "stream",
     "text": [
      "[4, 2, 3]\n"
     ]
    }
   ],
   "source": [
    "# Lists are mutable\n",
    "my_list = [1, 2, 3]\n",
    "my_list[0] = 4\n",
    "print (my_list) # [4, 2, 3] <- The same list, changed"
   ]
  },
  {
   "cell_type": "markdown",
   "metadata": {
    "collapsed": true
   },
   "source": [
    "Immutable types\n",
    "- 데이터 내용을 수정하기 위한 메서드가 존재하지 않음\n",
    "- `x = 6`일 때, `x.increment()`와 같은 메서드는 없음\n",
    "    - 새 값을 만들어 재할당 해줘야 함 (`x = x + 1`)\n",
    "    \n",
    "--> diction"
   ]
  },
  {
   "cell_type": "code",
   "execution_count": 23,
   "metadata": {
    "collapsed": true
   },
   "outputs": [],
   "source": [
    "# Integers are immutable\n",
    "x = 6\n",
    "x = x + 1 # The new x occupies a different location in memory."
   ]
  },
  {
   "cell_type": "markdown",
   "metadata": {},
   "source": [
    "### (중요) mutable type은 dictionary key로 사용할 수 없다."
   ]
  },
  {
   "cell_type": "code",
   "execution_count": 24,
   "metadata": {
    "collapsed": false,
    "scrolled": true
   },
   "outputs": [
    {
     "ename": "TypeError",
     "evalue": "unhashable type: 'list'",
     "output_type": "error",
     "traceback": [
      "\u001b[0;31m---------------------------------------------------------------------------\u001b[0m",
      "\u001b[0;31mTypeError\u001b[0m                                 Traceback (most recent call last)",
      "\u001b[0;32m<ipython-input-24-122d17417103>\u001b[0m in \u001b[0;36m<module>\u001b[0;34m()\u001b[0m\n\u001b[0;32m----> 1\u001b[0;31m \u001b[0mdic\u001b[0m \u001b[1;33m=\u001b[0m \u001b[1;33m{\u001b[0m\u001b[1;33m[\u001b[0m\u001b[1;34m'krw'\u001b[0m\u001b[1;33m,\u001b[0m \u001b[1;34m'usd'\u001b[0m\u001b[1;33m]\u001b[0m\u001b[1;33m:\u001b[0m \u001b[1;36m1100\u001b[0m\u001b[1;33m,\u001b[0m \u001b[1;33m[\u001b[0m\u001b[1;34m'krw'\u001b[0m\u001b[1;33m,\u001b[0m \u001b[1;34m'jpy'\u001b[0m\u001b[1;33m]\u001b[0m\u001b[1;33m:\u001b[0m \u001b[1;36m1000\u001b[0m\u001b[1;33m}\u001b[0m\u001b[1;33m\u001b[0m\u001b[0m\n\u001b[0m",
      "\u001b[0;31mTypeError\u001b[0m: unhashable type: 'list'"
     ]
    }
   ],
   "source": [
    "dic = {['krw', 'usd']: 1100, ['krw', 'jpy']: 1000}"
   ]
  },
  {
   "cell_type": "code",
   "execution_count": 25,
   "metadata": {
    "collapsed": true
   },
   "outputs": [],
   "source": [
    "dic = {('krw', 'usd'): 1100, ('krw', 'jpy'): 1000}"
   ]
  },
  {
   "cell_type": "code",
   "execution_count": 20,
   "metadata": {
    "collapsed": false
   },
   "outputs": [
    {
     "ename": "TypeError",
     "evalue": "'str' object does not support item assignment",
     "output_type": "error",
     "traceback": [
      "\u001b[0;31m---------------------------------------------------------------------------\u001b[0m",
      "\u001b[0;31mTypeError\u001b[0m                                 Traceback (most recent call last)",
      "\u001b[0;32m<ipython-input-20-fb901006e054>\u001b[0m in \u001b[0;36m<module>\u001b[0;34m()\u001b[0m\n\u001b[1;32m      1\u001b[0m \u001b[0ms\u001b[0m \u001b[1;33m=\u001b[0m \u001b[1;34m\"I'm not mutable\"\u001b[0m\u001b[1;33m\u001b[0m\u001b[0m\n\u001b[0;32m----> 2\u001b[0;31m \u001b[0ms\u001b[0m\u001b[1;33m[\u001b[0m\u001b[1;36m1\u001b[0m\u001b[1;33m:\u001b[0m\u001b[1;36m7\u001b[0m\u001b[1;33m]\u001b[0m \u001b[1;33m=\u001b[0m \u001b[1;34m\" am\"\u001b[0m\u001b[1;33m\u001b[0m\u001b[0m\n\u001b[0m",
      "\u001b[0;31mTypeError\u001b[0m: 'str' object does not support item assignment"
     ]
    }
   ],
   "source": [
    "s = \"I'm not mutable\"\n",
    "s[1:7] = \" am\""
   ]
  },
  {
   "cell_type": "code",
   "execution_count": null,
   "metadata": {
    "collapsed": true
   },
   "outputs": [],
   "source": []
  },
  {
   "cell_type": "markdown",
   "metadata": {},
   "source": [
    "False\n",
    "as\n",
    "continue\n",
    "else\n",
    "from\n",
    "in\n",
    "not\n",
    "return\n",
    "yield\n",
    "None\n",
    "assert\n",
    "def\n",
    "except\n",
    "global\n",
    "is\n",
    "or\n",
    "try\n",
    "True\n",
    "break\n",
    "del\n",
    "finally\n",
    "if\n",
    "lambda\n",
    "pass\n",
    "while\n",
    "and\n",
    "class\n",
    "elif\n",
    "for\n",
    "import\n",
    "nonlocal\n",
    "raise\n",
    "with"
   ]
  }
 ],
 "metadata": {
  "kernelspec": {
   "display_name": "Python [conda root]",
   "language": "python",
   "name": "conda-root-py"
  },
  "language_info": {
   "codemirror_mode": {
    "name": "ipython",
    "version": 3
   },
   "file_extension": ".py",
   "mimetype": "text/x-python",
   "name": "python",
   "nbconvert_exporter": "python",
   "pygments_lexer": "ipython3",
   "version": "3.5.2"
  }
 },
 "nbformat": 4,
 "nbformat_minor": 2
}
